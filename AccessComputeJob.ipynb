{
 "cells": [
  {
   "cell_type": "code",
   "execution_count": 1,
   "id": "e62d0c9f-3d8b-4675-96d2-ab65dcbb8fee",
   "metadata": {},
   "outputs": [
    {
     "name": "stderr",
     "output_type": "stream",
     "text": [
      "/data/keeling/a/michels9/anaconda3/envs/tcm/lib/python3.8/site-packages/geopandas/_compat.py:124: UserWarning: The Shapely GEOS version (3.11.3-CAPI-1.17.3) is incompatible with the GEOS version PyGEOS was compiled with (3.10.4-CAPI-1.16.2). Conversions between both will be slow.\n",
      "  warnings.warn(\n",
      "/data/cigi/scratch/michels9/tmp/ipykernel_19974/3582021189.py:3: DeprecationWarning: Shapely 2.0 is installed, but because PyGEOS is also installed, GeoPandas still uses PyGEOS by default. However, starting with version 0.14, the default will switch to Shapely. To force to use Shapely 2.0 now, you can either uninstall PyGEOS or set the environment variable USE_PYGEOS=0. You can do this before starting the Python process, or in your code before importing geopandas:\n",
      "\n",
      "import os\n",
      "os.environ['USE_PYGEOS'] = '0'\n",
      "import geopandas\n",
      "\n",
      "In the next release, GeoPandas will switch to using Shapely by default, even if PyGEOS is installed. If you only have PyGEOS installed to get speed-ups, this switch should be smooth. However, if you are using PyGEOS directly (calling PyGEOS functions on geometries from GeoPandas), this will then stop working and you are encouraged to migrate from PyGEOS to Shapely 2.0 (https://shapely.readthedocs.io/en/latest/migration_pygeos.html).\n",
      "  import geopandas as gpd\n"
     ]
    }
   ],
   "source": [
    "import access\n",
    "from access import Access, weights, Datasets\n",
    "import geopandas as gpd\n",
    "import gzip\n",
    "import os\n",
    "import pandas as pd\n",
    "import pathlib\n",
    "import subprocess\n",
    "from typing import List, Tuple, Union"
   ]
  },
  {
   "cell_type": "code",
   "execution_count": 2,
   "id": "decbddb3",
   "metadata": {},
   "outputs": [],
   "source": [
    "def get_git_revision_hash() -> str:\n",
    "    # from here: https://stackoverflow.com/questions/14989858/get-the-current-git-hash-in-a-python-script \n",
    "    return subprocess.check_output(['git', 'rev-parse', 'HEAD']).decode('ascii').strip()"
   ]
  },
  {
   "cell_type": "code",
   "execution_count": 3,
   "id": "d24c54b7",
   "metadata": {},
   "outputs": [
    {
     "name": "stdout",
     "output_type": "stream",
     "text": [
      "\n",
      "**Debugging information**\n",
      "\n",
      "pysal/access version: 1.1.9\n",
      "Git commit hash 335d6735904846bd1cab8f2078fd09159f9f2575\n",
      "\n",
      "**End debugging info**\n",
      "\n",
      "\n"
     ]
    }
   ],
   "source": [
    "## debugging information\n",
    "print(\"\\n**Debugging information**\\n\")\n",
    "print(f\"pysal/access version: {access.__version__}\")\n",
    "print(f\"Git commit hash {get_git_revision_hash()}\")\n",
    "print(\"\\n**End debugging info**\\n\\n\")"
   ]
  },
  {
   "cell_type": "markdown",
   "id": "a8d00b18",
   "metadata": {},
   "source": [
    "## TODO\n",
    "\n",
    "* allow for multi-select for methods\n",
    "* input data for population\n",
    "* allow supply data file to be named anything\n",
    "* allow supply data file to be any data type\n",
    "* input data for travel times"
   ]
  },
  {
   "cell_type": "code",
   "execution_count": 4,
   "id": "d3c0e557",
   "metadata": {},
   "outputs": [],
   "source": [
    "# general CyberGIS-Compute variables that will be useful\n",
    "RESULT_FOLDER = os.getenv('result_folder')\n",
    "# DATA_FOLDER = os.getenv('data_folder')\n",
    "\n",
    "# get the appropriate variables, these will be passed by CyberGIS-Compute\n",
    "MOBILITY_MODE = os.getenv('param_mobility_mode')\n",
    "POPULATION_TYPE = os.getenv('param_population_type')\n",
    "MAX_TRAVEL_TIME = os.getenv('param_max_travel_time')\n",
    "ACCESS_MEASURE = os.getenv('param_access_measure')\n",
    "# SUPPLY_FILENAME = os.getenv('param_supply_filename')\n",
    "\n",
    "# # supply data\n",
    "# SUPPLY_CAPACITY = os.getenv('param_supply_capacity')\n",
    "# SUPPLY_LATLON_OR_ID = os.getenv('param_supply_latlon_or_id')\n",
    "# SUPPLY_LAT = os.getenv('param_supply_lat')\n",
    "# SUPPLY_LON = os.getenv('param_supply_lon')\n",
    "# SUPPLY_ID = os.getenv('param_supply_id')"
   ]
  },
  {
   "cell_type": "code",
   "execution_count": 5,
   "id": "b3005c42",
   "metadata": {},
   "outputs": [],
   "source": [
    "# for testing purposes\n",
    "# general CyberGIS-Compute variables that will be useful\n",
    "# RESULT_FOLDER = \"result\"\n",
    "DATA_FOLDER = \"/job/herop_access_data\"  # this is mounted into the container, need more complex logic later to allow for uploaded data\n",
    "\n",
    "# get the appropriate variables, these will be passed by CyberGIS-Compute\n",
    "# MOBILITY_MODE = \"DRIVING\"\n",
    "# POPULATION_TYPE = \"TRACT\"\n",
    "# MAX_TRAVEL_TIME = \"30\"\n",
    "# ACCESS_MEASURE = \"ALL\"\n",
    "\n",
    "# supply data\n",
    "SUPPLY_FILENAME = \"chi_doc_pysal.csv\"  # assume CSV for now\n",
    "SUPPLY_CAPACITY = \"doc\"\n",
    "SUPPLY_LATLON_OR_ID = \"ID\"  # binary option between LATLON or ID\n",
    "SUPPLY_LAT = \"\"\n",
    "SUPPLY_LON = \"\"\n",
    "SUPPLY_ID = \"geoid\""
   ]
  },
  {
   "cell_type": "code",
   "execution_count": null,
   "id": "4c1b0eef",
   "metadata": {},
   "outputs": [],
   "source": [
    "# geography data\n",
    "geo_join_col = \"GEOID\" if POPULATION_TYPE == 'TRACT' else \"GEOID10\"\n",
    "\n",
    "# population data\n",
    "population_join_col = 'FIPS'  # TODO: is this always FIPS? Definitely won't be if people upload data?\n",
    "population_data_col = \"Total Population\"  # TODO: is this always Total Population?\n",
    "\n",
    "# travel time data\n",
    "matrix_join_col_o: str = \"origin\"\n",
    "matrix_join_col_d: str = \"destination\"\n",
    "matrix_travel_cost_col: str = \"minutes\""
   ]
  },
  {
   "cell_type": "code",
   "execution_count": 6,
   "id": "122000c9",
   "metadata": {},
   "outputs": [],
   "source": [
    "MAX_TRAVEL_TIME = int(MAX_TRAVEL_TIME)"
   ]
  },
  {
   "cell_type": "markdown",
   "id": "115e04e9",
   "metadata": {},
   "source": [
    "## TODO: add a ton of sanity checks\n",
    "\n",
    "* make sure the capacity field non-nan depending on the method"
   ]
  },
  {
   "cell_type": "markdown",
   "id": "c554b97c",
   "metadata": {},
   "source": [
    "## Helper Functions\n",
    "\n",
    "Helper functions taken from the HEROP spatial access lambda functions to reduce code reuse whereever possible: https://github.com/healthyregions/spatial-access/blob/main/lambda_functions"
   ]
  },
  {
   "cell_type": "code",
   "execution_count": 7,
   "id": "70026057",
   "metadata": {},
   "outputs": [],
   "source": [
    "def dfToGdf(df, lon, lat, crs='EPSG:4326'):\n",
    "  '''\n",
    "  Taken from: https://github.com/healthyregions/spatial-access/blob/main/lambda_functions/metrics.py#L11\n",
    "    df: pandas dataframe\n",
    "    lon: longitude column name\n",
    "    lat: latitude column name\n",
    "    crs: EPSG code or similar coordinate reference system\n",
    "  '''\n",
    "  return gpd.GeoDataFrame(\n",
    "    df.drop([lon, lat], axis=1), crs=crs, geometry=[Point(xy) for xy in zip(df[lon], df[lat])])"
   ]
  },
  {
   "cell_type": "markdown",
   "id": "a0e59316",
   "metadata": {},
   "source": [
    "## Population and Geography Data"
   ]
  },
  {
   "cell_type": "code",
   "execution_count": 8,
   "id": "5f531952",
   "metadata": {},
   "outputs": [],
   "source": [
    "def load_geometry() -> gpd.GeoDataFrame:\n",
    "    \"\"\"\n",
    "    Loads the geometry data for the analysis.\n",
    "    \n",
    "    Returns:\n",
    "        Tuple[gpd.GeoDataFrame, List]: (Geometry, list of unique origin IDs)\n",
    "    \"\"\"\n",
    "    if POPULATION_TYPE == \"TRACT\":\n",
    "        geometry = gpd.read_file(os.path.join(DATA_FOLDER, \"cb_2019_us_tract_500k.shp\"))\n",
    "        \n",
    "    elif POPULATION_TYPE == \"ZIP\":\n",
    "        geometry = gpd.read_file(os.path.join(DATA_FOLDER, \"cb_2018_us_zcta510_500k.shp\"))\n",
    "    else:\n",
    "        raise Exception(f\"POPULATION_TYPE should be TRACT or ZIP, somehow got {POPULATION_TYPE}\")\n",
    "    print(list(geometry.columns))\n",
    "    geometry = geometry[[geo_join_col, \"geometry\"]]\n",
    "    # coerce the field to an int64\n",
    "    # TODO: do we always want to coerce to int64?\n",
    "    try:\n",
    "        geometry[geo_join_col] = geometry[geo_join_col].astype('int64')\n",
    "    except Exception as e: \n",
    "        print(f\" Error in self.geographies[self.geo_join_col] : {e} \")\n",
    "    return geometry"
   ]
  },
  {
   "cell_type": "code",
   "execution_count": 9,
   "id": "b9693015",
   "metadata": {},
   "outputs": [],
   "source": [
    "def load_population() -> gpd.GeoDataFrame:\n",
    "    if POPULATION_TYPE == \"TRACT\":\n",
    "        population = gpd.read_file(os.path.join(\"./data\", \"DEFAULT_POP_DATA_TRACT.csv\")).iloc[1:]\n",
    "    elif POPULATION_TYPE == \"ZIP\":\n",
    "        population = gpd.read_file(os.path.join(\"./data\", \"DEFAULT_POP_DATA_ZIP.csv\")).iloc[1:]\n",
    "    else:\n",
    "        raise Exception(f\"POPULATION_TYPE should be TRACT or ZIP, somehow got {POPULATION_TYPE}\")\n",
    "    # TODO: for now just coercing to int64, revisit later\n",
    "    try:\n",
    "        population[population_join_col] = population[population_join_col].astype('int64')\n",
    "    except Exception as e: \n",
    "        print(f\" Error in population[population_join_col] : {e} \")\n",
    "    population = population[[population_join_col, population_data_col]]\n",
    "    # join to geometry data\n",
    "    geometry = load_geometry()\n",
    "    try:\n",
    "        geometry = geometry.merge(\n",
    "            population,\n",
    "            how=\"left\",\n",
    "            left_on=geo_join_col,\n",
    "            right_on=population_join_col\n",
    "        )\n",
    "    except Exception as e:\n",
    "        print(f\" Error in self.geographies.merge : {e} \") # 'zip' error is here\n",
    "    population[population_data_col] = population[population_data_col].astype('float')\n",
    "    return population"
   ]
  },
  {
   "cell_type": "code",
   "execution_count": 10,
   "id": "5fa3231b",
   "metadata": {},
   "outputs": [
    {
     "name": "stdout",
     "output_type": "stream",
     "text": [
      "['STATEFP', 'COUNTYFP', 'TRACTCE', 'AFFGEOID', 'GEOID', 'NAME', 'LSAD', 'ALAND', 'AWATER', 'geometry']\n",
      "Population loaded with 74001 rows:          FIPS  Total Population\n",
      "1  1001020100            1993.0\n",
      "2  1001020200            1959.0\n",
      "3  1001020300            3507.0\n",
      "4  1001020400            3878.0\n",
      "5  1001020500           10596.0\n"
     ]
    }
   ],
   "source": [
    "population = load_population()\n",
    "print(f\"Population loaded with {len(population)} rows: {population.head()}\")"
   ]
  },
  {
   "cell_type": "markdown",
   "id": "97206b77",
   "metadata": {},
   "source": [
    "## Supply Data"
   ]
  },
  {
   "cell_type": "code",
   "execution_count": 11,
   "id": "7b14cafa",
   "metadata": {},
   "outputs": [],
   "source": [
    "# load the supply data\n",
    "def get_supply_data():\n",
    "    # load the data from the data_dir\n",
    "    supply_data_path = os.path.join(DATA_FOLDER, SUPPLY_FILENAME)\n",
    "    supply_df = pd.read_csv(supply_data_path)\n",
    "    if SUPPLY_LATLON_OR_ID == \"ID\":  # if using geoid\n",
    "        assert SUPPLY_ID in supply_df.columns\n",
    "    elif SUPPLY_LATLON_OR_ID == \"ID\":  # if using lat/lon\n",
    "        # load the geometry data we will map to\n",
    "        geometry = load_geometry()\n",
    "        supply_df = dfToGdf(supply_df, SUPPLY_LAT, SUPPLY_LON)\n",
    "        print(f\"in set_destination determining destinations with {supply_df.head()}\")\n",
    "        supply_df = gpd.sjoin(supply_df, geometry[[geo_join_col, 'geometry']], how='inner', op='intersects')\n",
    "        print(f\"in set_destination, gdf is {gdf.head()}\")\n",
    "        # in set_destination, gdf is GEOID_left FIPS ... index_right GEOID_right\n",
    "        supply_df = pd.DataFrame(supply_df)\n",
    "        print(f\"supply_df is {supply_df.columns}\")\n",
    "    else:\n",
    "        raise Exception(f\"SUPPLY_LATLON_OR_ID should be ID or LATLON, somehow got {SUPPLY_LATLON_OR_ID}\")\n",
    "    supply_df = supply_df[[SUPPLY_CAPACITY, SUPPLY_ID]]\n",
    "    supply_df = supply_df[supply_df[SUPPLY_CAPACITY] > 0]  # drop 0 and negative supply\n",
    "    supply_df[SUPPLY_ID] = supply_df[SUPPLY_ID].astype('int64')\n",
    "    return supply_df"
   ]
  },
  {
   "cell_type": "code",
   "execution_count": 12,
   "id": "5b0579f4",
   "metadata": {},
   "outputs": [
    {
     "name": "stdout",
     "output_type": "stream",
     "text": [
      "Supply loaded with 1024 rows\n"
     ]
    },
    {
     "data": {
      "text/html": [
       "<div>\n",
       "<style scoped>\n",
       "    .dataframe tbody tr th:only-of-type {\n",
       "        vertical-align: middle;\n",
       "    }\n",
       "\n",
       "    .dataframe tbody tr th {\n",
       "        vertical-align: top;\n",
       "    }\n",
       "\n",
       "    .dataframe thead th {\n",
       "        text-align: right;\n",
       "    }\n",
       "</style>\n",
       "<table border=\"1\" class=\"dataframe\">\n",
       "  <thead>\n",
       "    <tr style=\"text-align: right;\">\n",
       "      <th></th>\n",
       "      <th>doc</th>\n",
       "      <th>geoid</th>\n",
       "    </tr>\n",
       "  </thead>\n",
       "  <tbody>\n",
       "    <tr>\n",
       "      <th>0</th>\n",
       "      <td>1</td>\n",
       "      <td>17031010100</td>\n",
       "    </tr>\n",
       "    <tr>\n",
       "      <th>2</th>\n",
       "      <td>4</td>\n",
       "      <td>17031010202</td>\n",
       "    </tr>\n",
       "    <tr>\n",
       "      <th>3</th>\n",
       "      <td>4</td>\n",
       "      <td>17031010300</td>\n",
       "    </tr>\n",
       "    <tr>\n",
       "      <th>9</th>\n",
       "      <td>1</td>\n",
       "      <td>17031010701</td>\n",
       "    </tr>\n",
       "    <tr>\n",
       "      <th>10</th>\n",
       "      <td>4</td>\n",
       "      <td>17031010702</td>\n",
       "    </tr>\n",
       "  </tbody>\n",
       "</table>\n",
       "</div>"
      ],
      "text/plain": [
       "    doc        geoid\n",
       "0     1  17031010100\n",
       "2     4  17031010202\n",
       "3     4  17031010300\n",
       "9     1  17031010701\n",
       "10    4  17031010702"
      ]
     },
     "execution_count": 12,
     "metadata": {},
     "output_type": "execute_result"
    }
   ],
   "source": [
    "supply = get_supply_data()\n",
    "print(f\"Supply loaded with {len(supply)} rows\")\n",
    "supply.head()"
   ]
  },
  {
   "cell_type": "markdown",
   "id": "cb33296a",
   "metadata": {},
   "source": [
    "## Load Travel Time"
   ]
  },
  {
   "cell_type": "code",
   "execution_count": 13,
   "id": "9138edf1",
   "metadata": {},
   "outputs": [],
   "source": [
    "def get_transit_matrix():\n",
    "#     MOBILITY_MODE = \"WALKING\"\n",
    "#     POPULATION_TYPE = \"TRACT\"\n",
    "    if POPULATION_TYPE == \"TRACT\" and MOBILITY_MODE == \"DRIVING\":\n",
    "        path = os.path.join(DATA_FOLDER, \"US-matrix-TRACT-DRIVING\")\n",
    "        assert os.path.exists(path)  # quick sanity check, we can add more if necessary\n",
    "        transit_matrix = pd.concat(\n",
    "            pd.read_parquet(_file) for _file in pathlib.Path(path).glob(\"*.parquet\")\n",
    "        )\n",
    "    elif POPULATION_TYPE == \"TRACT\" and MOBILITY_MODE == \"BICYCLE\":\n",
    "        path = os.path.join(DATA_FOLDER, f\"US-matrix-{POPULATION_TYPE}-{MOBILITY_MODE}.parquet.gz\")\n",
    "        assert os.path.exists(path)  # quick sanity check, we can add more if necessary\n",
    "        transit_matrx = pd.read_parquet(path)\n",
    "    else:\n",
    "        path = os.path.join(DATA_FOLDER, f\"US-matrix-{POPULATION_TYPE}-{MOBILITY_MODE}.parquet\")\n",
    "        print(path)\n",
    "        assert os.path.exists(path)  # quick sanity check, we can add more if necessary\n",
    "        transit_matrix = pd.read_parquet(path)\n",
    "    # quick sanity checking/cleaning\n",
    "    _len = len(transit_matrix)\n",
    "    transit_matrix = transit_matrix[transit_matrix[matrix_travel_cost_col] >= 0]\n",
    "    _cleaned_len = len(transit_matrix)\n",
    "    print(f\"After cleaning, transit_matrix is {len(transit_matrix)} rows ({_len - _cleaned_len} dropped)\")\n",
    "    transit_matrix[matrix_join_col_o] = transit_matrix[matrix_join_col_o].astype('int64')\n",
    "    transit_matrix[matrix_join_col_d] = transit_matrix[matrix_join_col_d].astype('int64')\n",
    "    return transit_matrix"
   ]
  },
  {
   "cell_type": "code",
   "execution_count": 14,
   "id": "c309670f",
   "metadata": {
    "scrolled": true
   },
   "outputs": [
    {
     "name": "stdout",
     "output_type": "stream",
     "text": [
      "After cleaning, transit_matrix is 94710505 rows (3418 dropped)\n",
      "The transit matrix as 94710505 rows\n"
     ]
    },
    {
     "data": {
      "text/html": [
       "<div>\n",
       "<style scoped>\n",
       "    .dataframe tbody tr th:only-of-type {\n",
       "        vertical-align: middle;\n",
       "    }\n",
       "\n",
       "    .dataframe tbody tr th {\n",
       "        vertical-align: top;\n",
       "    }\n",
       "\n",
       "    .dataframe thead th {\n",
       "        text-align: right;\n",
       "    }\n",
       "</style>\n",
       "<table border=\"1\" class=\"dataframe\">\n",
       "  <thead>\n",
       "    <tr style=\"text-align: right;\">\n",
       "      <th></th>\n",
       "      <th>origin</th>\n",
       "      <th>destination</th>\n",
       "      <th>minutes</th>\n",
       "    </tr>\n",
       "    <tr>\n",
       "      <th>__null_dask_index__</th>\n",
       "      <th></th>\n",
       "      <th></th>\n",
       "      <th></th>\n",
       "    </tr>\n",
       "  </thead>\n",
       "  <tbody>\n",
       "    <tr>\n",
       "      <th>0</th>\n",
       "      <td>17129010200</td>\n",
       "      <td>17051950700</td>\n",
       "      <td>143.40</td>\n",
       "    </tr>\n",
       "    <tr>\n",
       "      <th>1</th>\n",
       "      <td>17129010200</td>\n",
       "      <td>17173959600</td>\n",
       "      <td>133.50</td>\n",
       "    </tr>\n",
       "    <tr>\n",
       "      <th>2</th>\n",
       "      <td>17129010200</td>\n",
       "      <td>17173959200</td>\n",
       "      <td>118.28</td>\n",
       "    </tr>\n",
       "    <tr>\n",
       "      <th>3</th>\n",
       "      <td>17129010200</td>\n",
       "      <td>17173959100</td>\n",
       "      <td>117.75</td>\n",
       "    </tr>\n",
       "    <tr>\n",
       "      <th>4</th>\n",
       "      <td>17129010200</td>\n",
       "      <td>17139977100</td>\n",
       "      <td>118.15</td>\n",
       "    </tr>\n",
       "  </tbody>\n",
       "</table>\n",
       "</div>"
      ],
      "text/plain": [
       "                          origin  destination  minutes\n",
       "__null_dask_index__                                   \n",
       "0                    17129010200  17051950700   143.40\n",
       "1                    17129010200  17173959600   133.50\n",
       "2                    17129010200  17173959200   118.28\n",
       "3                    17129010200  17173959100   117.75\n",
       "4                    17129010200  17139977100   118.15"
      ]
     },
     "execution_count": 14,
     "metadata": {},
     "output_type": "execute_result"
    }
   ],
   "source": [
    "# load the travel time data\n",
    "transit_matrix = get_transit_matrix()\n",
    "print(f\"The transit matrix as {len(transit_matrix)} rows\")\n",
    "transit_matrix.head()"
   ]
  },
  {
   "cell_type": "code",
   "execution_count": 15,
   "id": "1f4004ba",
   "metadata": {},
   "outputs": [
    {
     "name": "stdout",
     "output_type": "stream",
     "text": [
      "74001\n",
      "1024\n"
     ]
    }
   ],
   "source": [
    "# start by getting a collection of origins/destinations we have data for\n",
    "possible_origins = set(population[population_join_col])\n",
    "print(len(possible_origins))\n",
    "possible_destinations = set(supply[SUPPLY_ID])\n",
    "print(len(possible_destinations))"
   ]
  },
  {
   "cell_type": "code",
   "execution_count": 16,
   "id": "055fef79",
   "metadata": {},
   "outputs": [
    {
     "name": "stdout",
     "output_type": "stream",
     "text": [
      "Transit matrix is 2452038 after dropping data outside of study area (dropped 92258467)\n"
     ]
    }
   ],
   "source": [
    "_len = len(transit_matrix)\n",
    "# only keep data related to our origins\n",
    "transit_matrix = transit_matrix[transit_matrix[matrix_join_col_o].isin(possible_origins)]\n",
    "# only keep data related to our destinations\n",
    "transit_matrix = transit_matrix[transit_matrix[matrix_join_col_d].isin(possible_destinations)]\n",
    "print(f\"Transit matrix is {len(transit_matrix)} after dropping data outside of study area (dropped {_len-len(transit_matrix)})\")"
   ]
  },
  {
   "cell_type": "markdown",
   "id": "b7a97570",
   "metadata": {},
   "source": [
    "## Calculating Access"
   ]
  },
  {
   "cell_type": "code",
   "execution_count": 17,
   "id": "43b102e2",
   "metadata": {},
   "outputs": [
    {
     "name": "stdout",
     "output_type": "stream",
     "text": [
      "2452038\n"
     ]
    },
    {
     "data": {
      "text/html": [
       "<div>\n",
       "<style scoped>\n",
       "    .dataframe tbody tr th:only-of-type {\n",
       "        vertical-align: middle;\n",
       "    }\n",
       "\n",
       "    .dataframe tbody tr th {\n",
       "        vertical-align: top;\n",
       "    }\n",
       "\n",
       "    .dataframe thead th {\n",
       "        text-align: right;\n",
       "    }\n",
       "</style>\n",
       "<table border=\"1\" class=\"dataframe\">\n",
       "  <thead>\n",
       "    <tr style=\"text-align: right;\">\n",
       "      <th></th>\n",
       "      <th>origin</th>\n",
       "      <th>destination</th>\n",
       "      <th>minutes</th>\n",
       "      <th>doc</th>\n",
       "      <th>geoid</th>\n",
       "    </tr>\n",
       "  </thead>\n",
       "  <tbody>\n",
       "    <tr>\n",
       "      <th>0</th>\n",
       "      <td>17019010400</td>\n",
       "      <td>17197883904</td>\n",
       "      <td>99.26</td>\n",
       "      <td>3</td>\n",
       "      <td>17197883904</td>\n",
       "    </tr>\n",
       "    <tr>\n",
       "      <th>1</th>\n",
       "      <td>17053962000</td>\n",
       "      <td>17197883904</td>\n",
       "      <td>103.89</td>\n",
       "      <td>3</td>\n",
       "      <td>17197883904</td>\n",
       "    </tr>\n",
       "    <tr>\n",
       "      <th>2</th>\n",
       "      <td>17053961900</td>\n",
       "      <td>17197883904</td>\n",
       "      <td>99.54</td>\n",
       "      <td>3</td>\n",
       "      <td>17197883904</td>\n",
       "    </tr>\n",
       "    <tr>\n",
       "      <th>3</th>\n",
       "      <td>17053961700</td>\n",
       "      <td>17197883904</td>\n",
       "      <td>91.85</td>\n",
       "      <td>3</td>\n",
       "      <td>17197883904</td>\n",
       "    </tr>\n",
       "    <tr>\n",
       "      <th>4</th>\n",
       "      <td>17113005102</td>\n",
       "      <td>17197883904</td>\n",
       "      <td>134.77</td>\n",
       "      <td>3</td>\n",
       "      <td>17197883904</td>\n",
       "    </tr>\n",
       "  </tbody>\n",
       "</table>\n",
       "</div>"
      ],
      "text/plain": [
       "        origin  destination  minutes  doc        geoid\n",
       "0  17019010400  17197883904    99.26    3  17197883904\n",
       "1  17053962000  17197883904   103.89    3  17197883904\n",
       "2  17053961900  17197883904    99.54    3  17197883904\n",
       "3  17053961700  17197883904    91.85    3  17197883904\n",
       "4  17113005102  17197883904   134.77    3  17197883904"
      ]
     },
     "execution_count": 17,
     "metadata": {},
     "output_type": "execute_result"
    }
   ],
   "source": [
    "# create the \"merged_data\" DF\n",
    "merged_data = transit_matrix.merge(\n",
    "    supply,\n",
    "    how=\"inner\",\n",
    "    left_on = matrix_join_col_d,\n",
    "    right_on = SUPPLY_ID\n",
    ")\n",
    "print(len(merged_data))\n",
    "merged_data.head()"
   ]
  },
  {
   "cell_type": "code",
   "execution_count": 18,
   "id": "ecb236ae",
   "metadata": {},
   "outputs": [],
   "source": [
    "def analyze_nearest(merged_data) -> pd.DataFrame:\n",
    "    time_to_nearest = merged_data[~merged_data[matrix_join_col_o].duplicated()][\n",
    "        [matrix_join_col_o, matrix_travel_cost_col]]\n",
    "    return time_to_nearest"
   ]
  },
  {
   "cell_type": "code",
   "execution_count": 19,
   "id": "c31da5b2",
   "metadata": {},
   "outputs": [
    {
     "data": {
      "text/html": [
       "<div>\n",
       "<style scoped>\n",
       "    .dataframe tbody tr th:only-of-type {\n",
       "        vertical-align: middle;\n",
       "    }\n",
       "\n",
       "    .dataframe tbody tr th {\n",
       "        vertical-align: top;\n",
       "    }\n",
       "\n",
       "    .dataframe thead th {\n",
       "        text-align: right;\n",
       "    }\n",
       "</style>\n",
       "<table border=\"1\" class=\"dataframe\">\n",
       "  <thead>\n",
       "    <tr style=\"text-align: right;\">\n",
       "      <th></th>\n",
       "      <th>origin</th>\n",
       "      <th>minutes</th>\n",
       "    </tr>\n",
       "  </thead>\n",
       "  <tbody>\n",
       "    <tr>\n",
       "      <th>0</th>\n",
       "      <td>17019010400</td>\n",
       "      <td>99.26</td>\n",
       "    </tr>\n",
       "    <tr>\n",
       "      <th>1</th>\n",
       "      <td>17053962000</td>\n",
       "      <td>103.89</td>\n",
       "    </tr>\n",
       "    <tr>\n",
       "      <th>2</th>\n",
       "      <td>17053961900</td>\n",
       "      <td>99.54</td>\n",
       "    </tr>\n",
       "    <tr>\n",
       "      <th>3</th>\n",
       "      <td>17053961700</td>\n",
       "      <td>91.85</td>\n",
       "    </tr>\n",
       "    <tr>\n",
       "      <th>4</th>\n",
       "      <td>17113005102</td>\n",
       "      <td>134.77</td>\n",
       "    </tr>\n",
       "  </tbody>\n",
       "</table>\n",
       "</div>"
      ],
      "text/plain": [
       "        origin  minutes\n",
       "0  17019010400    99.26\n",
       "1  17053962000   103.89\n",
       "2  17053961900    99.54\n",
       "3  17053961700    91.85\n",
       "4  17113005102   134.77"
      ]
     },
     "execution_count": 19,
     "metadata": {},
     "output_type": "execute_result"
    }
   ],
   "source": [
    "# do the nearest time here\n",
    "ttn = analyze_nearest(merged_data)\n",
    "ttn.head()"
   ]
  },
  {
   "cell_type": "code",
   "execution_count": 20,
   "id": "e988a2a5",
   "metadata": {},
   "outputs": [],
   "source": [
    "def analyze_count_in_threshold(merged_data) -> pd.DataFrame:\n",
    "    count_within_threshold = merged_data[merged_data[matrix_travel_cost_col] < MAX_TRAVEL_TIME] \\\n",
    "      .groupby(matrix_join_col_o).count() \\\n",
    "      .reset_index()[[matrix_join_col_o, matrix_travel_cost_col]] \\\n",
    "      .rename(columns={matrix_travel_cost_col: f\"count in {MAX_TRAVEL_TIME}\"})\n",
    "    return count_within_threshold"
   ]
  },
  {
   "cell_type": "code",
   "execution_count": 21,
   "id": "b5d1f395",
   "metadata": {},
   "outputs": [
    {
     "data": {
      "text/html": [
       "<div>\n",
       "<style scoped>\n",
       "    .dataframe tbody tr th:only-of-type {\n",
       "        vertical-align: middle;\n",
       "    }\n",
       "\n",
       "    .dataframe tbody tr th {\n",
       "        vertical-align: top;\n",
       "    }\n",
       "\n",
       "    .dataframe thead th {\n",
       "        text-align: right;\n",
       "    }\n",
       "</style>\n",
       "<table border=\"1\" class=\"dataframe\">\n",
       "  <thead>\n",
       "    <tr style=\"text-align: right;\">\n",
       "      <th></th>\n",
       "      <th>origin</th>\n",
       "      <th>count in 30</th>\n",
       "    </tr>\n",
       "  </thead>\n",
       "  <tbody>\n",
       "    <tr>\n",
       "      <th>0</th>\n",
       "      <td>17031010100</td>\n",
       "      <td>407</td>\n",
       "    </tr>\n",
       "    <tr>\n",
       "      <th>1</th>\n",
       "      <td>17031010201</td>\n",
       "      <td>416</td>\n",
       "    </tr>\n",
       "    <tr>\n",
       "      <th>2</th>\n",
       "      <td>17031010202</td>\n",
       "      <td>420</td>\n",
       "    </tr>\n",
       "    <tr>\n",
       "      <th>3</th>\n",
       "      <td>17031010300</td>\n",
       "      <td>415</td>\n",
       "    </tr>\n",
       "    <tr>\n",
       "      <th>4</th>\n",
       "      <td>17031010400</td>\n",
       "      <td>436</td>\n",
       "    </tr>\n",
       "  </tbody>\n",
       "</table>\n",
       "</div>"
      ],
      "text/plain": [
       "        origin  count in 30\n",
       "0  17031010100          407\n",
       "1  17031010201          416\n",
       "2  17031010202          420\n",
       "3  17031010300          415\n",
       "4  17031010400          436"
      ]
     },
     "execution_count": 21,
     "metadata": {},
     "output_type": "execute_result"
    }
   ],
   "source": [
    "# count in threshold\n",
    "cwt = analyze_count_in_threshold(merged_data)\n",
    "cwt.head()"
   ]
  },
  {
   "cell_type": "code",
   "execution_count": 22,
   "id": "e0fc5591",
   "metadata": {},
   "outputs": [],
   "source": [
    "# print(population.dtypes)\n",
    "# population[population_join_col].head()"
   ]
  },
  {
   "cell_type": "code",
   "execution_count": 23,
   "id": "8cf284f9",
   "metadata": {
    "scrolled": true
   },
   "outputs": [],
   "source": [
    "# print(population.dtypes)\n",
    "# supply[SUPPLY_ID].head()"
   ]
  },
  {
   "cell_type": "code",
   "execution_count": 24,
   "id": "321d74d2",
   "metadata": {},
   "outputs": [],
   "source": [
    "# print(transit_matrix.dtypes)\n",
    "# transit_matrix[[matrix_join_col_o, matrix_join_col_d]].head()"
   ]
  },
  {
   "cell_type": "code",
   "execution_count": 25,
   "id": "ecfb0525",
   "metadata": {},
   "outputs": [],
   "source": [
    "# create pysal/access object\n",
    "A = Access(demand_df            = population,\n",
    "           demand_index         = population_join_col,\n",
    "           demand_value         = population_data_col,\n",
    "           supply_df            = supply,\n",
    "           supply_index         = SUPPLY_ID,\n",
    "           supply_value         = SUPPLY_CAPACITY,\n",
    "           cost_df              = transit_matrix,\n",
    "           cost_origin          = matrix_join_col_o,\n",
    "           cost_dest            = matrix_join_col_d,\n",
    "           cost_name            = matrix_travel_cost_col,\n",
    "           neighbor_cost_df              = transit_matrix,\n",
    "           neighbor_cost_origin          = matrix_join_col_o,\n",
    "           neighbor_cost_dest            = matrix_join_col_d,\n",
    "           neighbor_cost_name            = matrix_travel_cost_col) # newer versions require this TCM"
   ]
  },
  {
   "cell_type": "code",
   "execution_count": 26,
   "id": "7999b69c",
   "metadata": {},
   "outputs": [
    {
     "name": "stdout",
     "output_type": "stream",
     "text": [
      "['GRAVITY', 'FCA', '2SFCA', 'E2SFCA', 'G2SFCA', '3SFCA', 'RAAM']\n"
     ]
    }
   ],
   "source": [
    "  # use a list so we can allow for multi later\n",
    "if ACCESS_MEASURE == \"ALL\":\n",
    "    # make it the full list\n",
    "    metrics2run = [\n",
    "        \"GRAVITY\",\n",
    "        \"FCA\",\n",
    "        \"2SFCA\",\n",
    "        \"E2SFCA\",\n",
    "        \"G2SFCA\",\n",
    "        \"3SFCA\",\n",
    "        \"RAAM\"\n",
    "    ]\n",
    "else:\n",
    "    metrics2run = [ACCESS_MEASURE]\n",
    "print(metrics2run)"
   ]
  },
  {
   "cell_type": "code",
   "execution_count": 27,
   "id": "02083980",
   "metadata": {
    "scrolled": false
   },
   "outputs": [
    {
     "name": "stderr",
     "output_type": "stream",
     "text": [
      "/data/keeling/a/michels9/anaconda3/envs/tcm/lib/python3.8/site-packages/access/fca.py:161: UserWarning: some tracts may be unaccounted for in supply_cost\n",
      "  warnings.warn(\"some tracts may be unaccounted for in supply_cost\", stacklevel=1)\n"
     ]
    }
   ],
   "source": [
    "if \"GRAVITY\" in metrics2run:\n",
    "    gravity = weights.gravity(scale = 60, alpha = -1)\n",
    "    A.weighted_catchment    (name = \"gravity\",  weight_fn = gravity)\n",
    "if \"FCA\" in metrics2run:\n",
    "    A.fca_ratio             (name = \"fca\",      max_cost = MAX_TRAVEL_TIME)\n",
    "if \"2SFCA\" in metrics2run:\n",
    "    A.two_stage_fca         (name = \"2sfca\",    max_cost = MAX_TRAVEL_TIME)\n",
    "if \"E2SFCA\" in metrics2run:\n",
    "    # create a weight function, this basic one just breaks it into thirds\n",
    "    e2sfca_fn = weights.step_fn({MAX_TRAVEL_TIME/3 : 1, MAX_TRAVEL_TIME*(2/3) : 0.68, MAX_TRAVEL_TIME : 0.22})\n",
    "    A.enhanced_two_stage_fca(name = \"2sfca30\",  weight_fn = e2sfca_fn)\n",
    "if \"G2SFCA\" in metrics2run:\n",
    "    # TODO: robustness on weights\n",
    "    gaussian = weights.gaussian(MAX_TRAVEL_TIME/3)\n",
    "    A.enhanced_two_stage_fca(name = \"g2sfca\",   weight_fn = gaussian)\n",
    "if \"3SFCA\" in metrics2run:\n",
    "    A.three_stage_fca       (name = \"3sfca\")\n",
    "if \"RAAM\" in metrics2run:\n",
    "    # TODO: let them pass in a TAU value\n",
    "    A.raam(name = \"raam\", tau = 30)"
   ]
  },
  {
   "cell_type": "code",
   "execution_count": 28,
   "id": "964c3384-393c-4c24-905f-f235c2dda478",
   "metadata": {},
   "outputs": [
    {
     "data": {
      "text/html": [
       "<div>\n",
       "<style scoped>\n",
       "    .dataframe tbody tr th:only-of-type {\n",
       "        vertical-align: middle;\n",
       "    }\n",
       "\n",
       "    .dataframe tbody tr th {\n",
       "        vertical-align: top;\n",
       "    }\n",
       "\n",
       "    .dataframe thead th {\n",
       "        text-align: right;\n",
       "    }\n",
       "</style>\n",
       "<table border=\"1\" class=\"dataframe\">\n",
       "  <thead>\n",
       "    <tr style=\"text-align: right;\">\n",
       "      <th></th>\n",
       "      <th>Total Population</th>\n",
       "      <th>gravity_doc</th>\n",
       "      <th>fca_doc</th>\n",
       "      <th>2sfca_doc</th>\n",
       "      <th>2sfca30_doc</th>\n",
       "      <th>g2sfca_doc</th>\n",
       "      <th>3sfca_doc</th>\n",
       "      <th>raam_doc</th>\n",
       "    </tr>\n",
       "    <tr>\n",
       "      <th>FIPS</th>\n",
       "      <th></th>\n",
       "      <th></th>\n",
       "      <th></th>\n",
       "      <th></th>\n",
       "      <th></th>\n",
       "      <th></th>\n",
       "      <th></th>\n",
       "      <th></th>\n",
       "    </tr>\n",
       "  </thead>\n",
       "  <tbody>\n",
       "    <tr>\n",
       "      <th>1001020100</th>\n",
       "      <td>1993.0</td>\n",
       "      <td>NaN</td>\n",
       "      <td>NaN</td>\n",
       "      <td>NaN</td>\n",
       "      <td>NaN</td>\n",
       "      <td>NaN</td>\n",
       "      <td>NaN</td>\n",
       "      <td>NaN</td>\n",
       "    </tr>\n",
       "    <tr>\n",
       "      <th>1001020200</th>\n",
       "      <td>1959.0</td>\n",
       "      <td>NaN</td>\n",
       "      <td>NaN</td>\n",
       "      <td>NaN</td>\n",
       "      <td>NaN</td>\n",
       "      <td>NaN</td>\n",
       "      <td>NaN</td>\n",
       "      <td>NaN</td>\n",
       "    </tr>\n",
       "    <tr>\n",
       "      <th>1001020300</th>\n",
       "      <td>3507.0</td>\n",
       "      <td>NaN</td>\n",
       "      <td>NaN</td>\n",
       "      <td>NaN</td>\n",
       "      <td>NaN</td>\n",
       "      <td>NaN</td>\n",
       "      <td>NaN</td>\n",
       "      <td>NaN</td>\n",
       "    </tr>\n",
       "    <tr>\n",
       "      <th>1001020400</th>\n",
       "      <td>3878.0</td>\n",
       "      <td>NaN</td>\n",
       "      <td>NaN</td>\n",
       "      <td>NaN</td>\n",
       "      <td>NaN</td>\n",
       "      <td>NaN</td>\n",
       "      <td>NaN</td>\n",
       "      <td>NaN</td>\n",
       "    </tr>\n",
       "    <tr>\n",
       "      <th>1001020500</th>\n",
       "      <td>10596.0</td>\n",
       "      <td>NaN</td>\n",
       "      <td>NaN</td>\n",
       "      <td>NaN</td>\n",
       "      <td>NaN</td>\n",
       "      <td>NaN</td>\n",
       "      <td>NaN</td>\n",
       "      <td>NaN</td>\n",
       "    </tr>\n",
       "  </tbody>\n",
       "</table>\n",
       "</div>"
      ],
      "text/plain": [
       "            Total Population  gravity_doc  fca_doc  2sfca_doc  2sfca30_doc  \\\n",
       "FIPS                                                                         \n",
       "1001020100            1993.0          NaN      NaN        NaN          NaN   \n",
       "1001020200            1959.0          NaN      NaN        NaN          NaN   \n",
       "1001020300            3507.0          NaN      NaN        NaN          NaN   \n",
       "1001020400            3878.0          NaN      NaN        NaN          NaN   \n",
       "1001020500           10596.0          NaN      NaN        NaN          NaN   \n",
       "\n",
       "            g2sfca_doc  3sfca_doc  raam_doc  \n",
       "FIPS                                         \n",
       "1001020100         NaN        NaN       NaN  \n",
       "1001020200         NaN        NaN       NaN  \n",
       "1001020300         NaN        NaN       NaN  \n",
       "1001020400         NaN        NaN       NaN  \n",
       "1001020500         NaN        NaN       NaN  "
      ]
     },
     "execution_count": 28,
     "metadata": {},
     "output_type": "execute_result"
    }
   ],
   "source": [
    "A.access_df.head()"
   ]
  },
  {
   "cell_type": "markdown",
   "id": "31e9ae4c",
   "metadata": {},
   "source": [
    "## Combine Results"
   ]
  },
  {
   "cell_type": "code",
   "execution_count": 29,
   "id": "32870ec6",
   "metadata": {},
   "outputs": [
    {
     "name": "stdout",
     "output_type": "stream",
     "text": [
      "['STATEFP', 'COUNTYFP', 'TRACTCE', 'AFFGEOID', 'GEOID', 'NAME', 'LSAD', 'ALAND', 'AWATER', 'geometry']\n"
     ]
    },
    {
     "data": {
      "text/html": [
       "<div>\n",
       "<style scoped>\n",
       "    .dataframe tbody tr th:only-of-type {\n",
       "        vertical-align: middle;\n",
       "    }\n",
       "\n",
       "    .dataframe tbody tr th {\n",
       "        vertical-align: top;\n",
       "    }\n",
       "\n",
       "    .dataframe thead th {\n",
       "        text-align: right;\n",
       "    }\n",
       "</style>\n",
       "<table border=\"1\" class=\"dataframe\">\n",
       "  <thead>\n",
       "    <tr style=\"text-align: right;\">\n",
       "      <th></th>\n",
       "      <th>GEOID</th>\n",
       "      <th>geometry</th>\n",
       "      <th>origin_x</th>\n",
       "      <th>minutes</th>\n",
       "      <th>origin_y</th>\n",
       "      <th>count in 30</th>\n",
       "    </tr>\n",
       "  </thead>\n",
       "  <tbody>\n",
       "    <tr>\n",
       "      <th>0</th>\n",
       "      <td>34005702808</td>\n",
       "      <td>POLYGON ((-74.90801 40.03250, -74.90496 40.036...</td>\n",
       "      <td>NaN</td>\n",
       "      <td>NaN</td>\n",
       "      <td>NaN</td>\n",
       "      <td>NaN</td>\n",
       "    </tr>\n",
       "    <tr>\n",
       "      <th>1</th>\n",
       "      <td>39153504200</td>\n",
       "      <td>POLYGON ((-81.51807 41.05957, -81.51805 41.062...</td>\n",
       "      <td>NaN</td>\n",
       "      <td>NaN</td>\n",
       "      <td>NaN</td>\n",
       "      <td>NaN</td>\n",
       "    </tr>\n",
       "    <tr>\n",
       "      <th>2</th>\n",
       "      <td>36071000502</td>\n",
       "      <td>POLYGON ((-74.02226 41.49281, -74.02180 41.496...</td>\n",
       "      <td>NaN</td>\n",
       "      <td>NaN</td>\n",
       "      <td>NaN</td>\n",
       "      <td>NaN</td>\n",
       "    </tr>\n",
       "    <tr>\n",
       "      <th>3</th>\n",
       "      <td>6013370000</td>\n",
       "      <td>POLYGON ((-122.32697 37.93502, -122.32610 37.9...</td>\n",
       "      <td>NaN</td>\n",
       "      <td>NaN</td>\n",
       "      <td>NaN</td>\n",
       "      <td>NaN</td>\n",
       "    </tr>\n",
       "    <tr>\n",
       "      <th>4</th>\n",
       "      <td>48113019204</td>\n",
       "      <td>POLYGON ((-96.76902 32.94655, -96.76899 32.950...</td>\n",
       "      <td>NaN</td>\n",
       "      <td>NaN</td>\n",
       "      <td>NaN</td>\n",
       "      <td>NaN</td>\n",
       "    </tr>\n",
       "  </tbody>\n",
       "</table>\n",
       "</div>"
      ],
      "text/plain": [
       "         GEOID                                           geometry  origin_x  \\\n",
       "0  34005702808  POLYGON ((-74.90801 40.03250, -74.90496 40.036...       NaN   \n",
       "1  39153504200  POLYGON ((-81.51807 41.05957, -81.51805 41.062...       NaN   \n",
       "2  36071000502  POLYGON ((-74.02226 41.49281, -74.02180 41.496...       NaN   \n",
       "3   6013370000  POLYGON ((-122.32697 37.93502, -122.32610 37.9...       NaN   \n",
       "4  48113019204  POLYGON ((-96.76902 32.94655, -96.76899 32.950...       NaN   \n",
       "\n",
       "   minutes  origin_y  count in 30  \n",
       "0      NaN       NaN          NaN  \n",
       "1      NaN       NaN          NaN  \n",
       "2      NaN       NaN          NaN  \n",
       "3      NaN       NaN          NaN  \n",
       "4      NaN       NaN          NaN  "
      ]
     },
     "execution_count": 29,
     "metadata": {},
     "output_type": "execute_result"
    }
   ],
   "source": [
    "results = load_geometry()\n",
    "results = results \\\n",
    "            .merge(ttn, how=\"left\", left_on=geo_join_col, right_on=matrix_join_col_o) \\\n",
    "            .merge(cwt, how=\"left\", left_on=geo_join_col, right_on=matrix_join_col_o) \n",
    "results.head()"
   ]
  },
  {
   "cell_type": "code",
   "execution_count": 30,
   "id": "59a778fd",
   "metadata": {},
   "outputs": [
    {
     "data": {
      "text/html": [
       "<div>\n",
       "<style scoped>\n",
       "    .dataframe tbody tr th:only-of-type {\n",
       "        vertical-align: middle;\n",
       "    }\n",
       "\n",
       "    .dataframe tbody tr th {\n",
       "        vertical-align: top;\n",
       "    }\n",
       "\n",
       "    .dataframe thead th {\n",
       "        text-align: right;\n",
       "    }\n",
       "</style>\n",
       "<table border=\"1\" class=\"dataframe\">\n",
       "  <thead>\n",
       "    <tr style=\"text-align: right;\">\n",
       "      <th></th>\n",
       "      <th>GEOID</th>\n",
       "      <th>geometry</th>\n",
       "      <th>origin_x</th>\n",
       "      <th>minutes</th>\n",
       "      <th>origin_y</th>\n",
       "      <th>count in 30</th>\n",
       "      <th>Total Population</th>\n",
       "      <th>gravity_doc</th>\n",
       "      <th>fca_doc</th>\n",
       "      <th>2sfca_doc</th>\n",
       "      <th>2sfca30_doc</th>\n",
       "      <th>g2sfca_doc</th>\n",
       "      <th>3sfca_doc</th>\n",
       "      <th>raam_doc</th>\n",
       "    </tr>\n",
       "  </thead>\n",
       "  <tbody>\n",
       "    <tr>\n",
       "      <th>0</th>\n",
       "      <td>34005702808</td>\n",
       "      <td>POLYGON ((-74.90801 40.03250, -74.90496 40.036...</td>\n",
       "      <td>NaN</td>\n",
       "      <td>NaN</td>\n",
       "      <td>NaN</td>\n",
       "      <td>NaN</td>\n",
       "      <td>3353.0</td>\n",
       "      <td>NaN</td>\n",
       "      <td>NaN</td>\n",
       "      <td>NaN</td>\n",
       "      <td>NaN</td>\n",
       "      <td>NaN</td>\n",
       "      <td>NaN</td>\n",
       "      <td>NaN</td>\n",
       "    </tr>\n",
       "    <tr>\n",
       "      <th>1</th>\n",
       "      <td>39153504200</td>\n",
       "      <td>POLYGON ((-81.51807 41.05957, -81.51805 41.062...</td>\n",
       "      <td>NaN</td>\n",
       "      <td>NaN</td>\n",
       "      <td>NaN</td>\n",
       "      <td>NaN</td>\n",
       "      <td>1708.0</td>\n",
       "      <td>NaN</td>\n",
       "      <td>NaN</td>\n",
       "      <td>NaN</td>\n",
       "      <td>NaN</td>\n",
       "      <td>NaN</td>\n",
       "      <td>NaN</td>\n",
       "      <td>NaN</td>\n",
       "    </tr>\n",
       "    <tr>\n",
       "      <th>2</th>\n",
       "      <td>36071000502</td>\n",
       "      <td>POLYGON ((-74.02226 41.49281, -74.02180 41.496...</td>\n",
       "      <td>NaN</td>\n",
       "      <td>NaN</td>\n",
       "      <td>NaN</td>\n",
       "      <td>NaN</td>\n",
       "      <td>3763.0</td>\n",
       "      <td>NaN</td>\n",
       "      <td>NaN</td>\n",
       "      <td>NaN</td>\n",
       "      <td>NaN</td>\n",
       "      <td>NaN</td>\n",
       "      <td>NaN</td>\n",
       "      <td>NaN</td>\n",
       "    </tr>\n",
       "    <tr>\n",
       "      <th>3</th>\n",
       "      <td>6013370000</td>\n",
       "      <td>POLYGON ((-122.32697 37.93502, -122.32610 37.9...</td>\n",
       "      <td>NaN</td>\n",
       "      <td>NaN</td>\n",
       "      <td>NaN</td>\n",
       "      <td>NaN</td>\n",
       "      <td>2850.0</td>\n",
       "      <td>NaN</td>\n",
       "      <td>NaN</td>\n",
       "      <td>NaN</td>\n",
       "      <td>NaN</td>\n",
       "      <td>NaN</td>\n",
       "      <td>NaN</td>\n",
       "      <td>NaN</td>\n",
       "    </tr>\n",
       "    <tr>\n",
       "      <th>4</th>\n",
       "      <td>48113019204</td>\n",
       "      <td>POLYGON ((-96.76902 32.94655, -96.76899 32.950...</td>\n",
       "      <td>NaN</td>\n",
       "      <td>NaN</td>\n",
       "      <td>NaN</td>\n",
       "      <td>NaN</td>\n",
       "      <td>10051.0</td>\n",
       "      <td>NaN</td>\n",
       "      <td>NaN</td>\n",
       "      <td>NaN</td>\n",
       "      <td>NaN</td>\n",
       "      <td>NaN</td>\n",
       "      <td>NaN</td>\n",
       "      <td>NaN</td>\n",
       "    </tr>\n",
       "  </tbody>\n",
       "</table>\n",
       "</div>"
      ],
      "text/plain": [
       "         GEOID                                           geometry  origin_x  \\\n",
       "0  34005702808  POLYGON ((-74.90801 40.03250, -74.90496 40.036...       NaN   \n",
       "1  39153504200  POLYGON ((-81.51807 41.05957, -81.51805 41.062...       NaN   \n",
       "2  36071000502  POLYGON ((-74.02226 41.49281, -74.02180 41.496...       NaN   \n",
       "3   6013370000  POLYGON ((-122.32697 37.93502, -122.32610 37.9...       NaN   \n",
       "4  48113019204  POLYGON ((-96.76902 32.94655, -96.76899 32.950...       NaN   \n",
       "\n",
       "   minutes  origin_y  count in 30  Total Population  gravity_doc  fca_doc  \\\n",
       "0      NaN       NaN          NaN            3353.0          NaN      NaN   \n",
       "1      NaN       NaN          NaN            1708.0          NaN      NaN   \n",
       "2      NaN       NaN          NaN            3763.0          NaN      NaN   \n",
       "3      NaN       NaN          NaN            2850.0          NaN      NaN   \n",
       "4      NaN       NaN          NaN           10051.0          NaN      NaN   \n",
       "\n",
       "   2sfca_doc  2sfca30_doc  g2sfca_doc  3sfca_doc  raam_doc  \n",
       "0        NaN          NaN         NaN        NaN       NaN  \n",
       "1        NaN          NaN         NaN        NaN       NaN  \n",
       "2        NaN          NaN         NaN        NaN       NaN  \n",
       "3        NaN          NaN         NaN        NaN       NaN  \n",
       "4        NaN          NaN         NaN        NaN       NaN  "
      ]
     },
     "execution_count": 30,
     "metadata": {},
     "output_type": "execute_result"
    }
   ],
   "source": [
    "results = results.merge(A.access_df, left_on=geo_join_col, right_index=True)\n",
    "results.head()"
   ]
  },
  {
   "cell_type": "code",
   "execution_count": 31,
   "id": "542b0328",
   "metadata": {},
   "outputs": [],
   "source": [
    "results = results.drop(columns=[\"Total Population\",\n",
    "                                f\"{matrix_join_col_o}_x\",\n",
    "                                f\"{matrix_join_col_o}_y\"], errors='ignore')"
   ]
  },
  {
   "cell_type": "code",
   "execution_count": 32,
   "id": "0b9b4f09",
   "metadata": {},
   "outputs": [
    {
     "data": {
      "text/html": [
       "<div>\n",
       "<style scoped>\n",
       "    .dataframe tbody tr th:only-of-type {\n",
       "        vertical-align: middle;\n",
       "    }\n",
       "\n",
       "    .dataframe tbody tr th {\n",
       "        vertical-align: top;\n",
       "    }\n",
       "\n",
       "    .dataframe thead th {\n",
       "        text-align: right;\n",
       "    }\n",
       "</style>\n",
       "<table border=\"1\" class=\"dataframe\">\n",
       "  <thead>\n",
       "    <tr style=\"text-align: right;\">\n",
       "      <th></th>\n",
       "      <th>GEOID</th>\n",
       "      <th>geometry</th>\n",
       "      <th>minutes</th>\n",
       "      <th>count in 30</th>\n",
       "      <th>gravity_doc</th>\n",
       "      <th>fca_doc</th>\n",
       "      <th>2sfca_doc</th>\n",
       "      <th>2sfca30_doc</th>\n",
       "      <th>g2sfca_doc</th>\n",
       "      <th>3sfca_doc</th>\n",
       "      <th>raam_doc</th>\n",
       "    </tr>\n",
       "  </thead>\n",
       "  <tbody>\n",
       "    <tr>\n",
       "      <th>0</th>\n",
       "      <td>34005702808</td>\n",
       "      <td>POLYGON ((-74.90801 40.03250, -74.90496 40.036...</td>\n",
       "      <td>NaN</td>\n",
       "      <td>NaN</td>\n",
       "      <td>NaN</td>\n",
       "      <td>NaN</td>\n",
       "      <td>NaN</td>\n",
       "      <td>NaN</td>\n",
       "      <td>NaN</td>\n",
       "      <td>NaN</td>\n",
       "      <td>NaN</td>\n",
       "    </tr>\n",
       "    <tr>\n",
       "      <th>1</th>\n",
       "      <td>39153504200</td>\n",
       "      <td>POLYGON ((-81.51807 41.05957, -81.51805 41.062...</td>\n",
       "      <td>NaN</td>\n",
       "      <td>NaN</td>\n",
       "      <td>NaN</td>\n",
       "      <td>NaN</td>\n",
       "      <td>NaN</td>\n",
       "      <td>NaN</td>\n",
       "      <td>NaN</td>\n",
       "      <td>NaN</td>\n",
       "      <td>NaN</td>\n",
       "    </tr>\n",
       "    <tr>\n",
       "      <th>2</th>\n",
       "      <td>36071000502</td>\n",
       "      <td>POLYGON ((-74.02226 41.49281, -74.02180 41.496...</td>\n",
       "      <td>NaN</td>\n",
       "      <td>NaN</td>\n",
       "      <td>NaN</td>\n",
       "      <td>NaN</td>\n",
       "      <td>NaN</td>\n",
       "      <td>NaN</td>\n",
       "      <td>NaN</td>\n",
       "      <td>NaN</td>\n",
       "      <td>NaN</td>\n",
       "    </tr>\n",
       "    <tr>\n",
       "      <th>3</th>\n",
       "      <td>6013370000</td>\n",
       "      <td>POLYGON ((-122.32697 37.93502, -122.32610 37.9...</td>\n",
       "      <td>NaN</td>\n",
       "      <td>NaN</td>\n",
       "      <td>NaN</td>\n",
       "      <td>NaN</td>\n",
       "      <td>NaN</td>\n",
       "      <td>NaN</td>\n",
       "      <td>NaN</td>\n",
       "      <td>NaN</td>\n",
       "      <td>NaN</td>\n",
       "    </tr>\n",
       "    <tr>\n",
       "      <th>4</th>\n",
       "      <td>48113019204</td>\n",
       "      <td>POLYGON ((-96.76902 32.94655, -96.76899 32.950...</td>\n",
       "      <td>NaN</td>\n",
       "      <td>NaN</td>\n",
       "      <td>NaN</td>\n",
       "      <td>NaN</td>\n",
       "      <td>NaN</td>\n",
       "      <td>NaN</td>\n",
       "      <td>NaN</td>\n",
       "      <td>NaN</td>\n",
       "      <td>NaN</td>\n",
       "    </tr>\n",
       "  </tbody>\n",
       "</table>\n",
       "</div>"
      ],
      "text/plain": [
       "         GEOID                                           geometry  minutes  \\\n",
       "0  34005702808  POLYGON ((-74.90801 40.03250, -74.90496 40.036...      NaN   \n",
       "1  39153504200  POLYGON ((-81.51807 41.05957, -81.51805 41.062...      NaN   \n",
       "2  36071000502  POLYGON ((-74.02226 41.49281, -74.02180 41.496...      NaN   \n",
       "3   6013370000  POLYGON ((-122.32697 37.93502, -122.32610 37.9...      NaN   \n",
       "4  48113019204  POLYGON ((-96.76902 32.94655, -96.76899 32.950...      NaN   \n",
       "\n",
       "   count in 30  gravity_doc  fca_doc  2sfca_doc  2sfca30_doc  g2sfca_doc  \\\n",
       "0          NaN          NaN      NaN        NaN          NaN         NaN   \n",
       "1          NaN          NaN      NaN        NaN          NaN         NaN   \n",
       "2          NaN          NaN      NaN        NaN          NaN         NaN   \n",
       "3          NaN          NaN      NaN        NaN          NaN         NaN   \n",
       "4          NaN          NaN      NaN        NaN          NaN         NaN   \n",
       "\n",
       "   3sfca_doc  raam_doc  \n",
       "0        NaN       NaN  \n",
       "1        NaN       NaN  \n",
       "2        NaN       NaN  \n",
       "3        NaN       NaN  \n",
       "4        NaN       NaN  "
      ]
     },
     "execution_count": 32,
     "metadata": {},
     "output_type": "execute_result"
    }
   ],
   "source": [
    "results.head()"
   ]
  },
  {
   "cell_type": "code",
   "execution_count": 33,
   "id": "2d41bf8e",
   "metadata": {},
   "outputs": [
    {
     "data": {
      "text/plain": [
       "{'2sfca30_doc',\n",
       " '2sfca_doc',\n",
       " '3sfca_doc',\n",
       " 'count in 30',\n",
       " 'fca_doc',\n",
       " 'g2sfca_doc',\n",
       " 'gravity_doc',\n",
       " 'minutes',\n",
       " 'raam_doc'}"
      ]
     },
     "execution_count": 33,
     "metadata": {},
     "output_type": "execute_result"
    }
   ],
   "source": [
    "result_cols = list(results.columns)\n",
    "result_cols = set(result_cols) - set([geo_join_col, \"geometry\"])\n",
    "result_cols"
   ]
  },
  {
   "cell_type": "code",
   "execution_count": 34,
   "id": "e40b97cf",
   "metadata": {},
   "outputs": [
    {
     "data": {
      "text/html": [
       "<div>\n",
       "<style scoped>\n",
       "    .dataframe tbody tr th:only-of-type {\n",
       "        vertical-align: middle;\n",
       "    }\n",
       "\n",
       "    .dataframe tbody tr th {\n",
       "        vertical-align: top;\n",
       "    }\n",
       "\n",
       "    .dataframe thead th {\n",
       "        text-align: right;\n",
       "    }\n",
       "</style>\n",
       "<table border=\"1\" class=\"dataframe\">\n",
       "  <thead>\n",
       "    <tr style=\"text-align: right;\">\n",
       "      <th></th>\n",
       "      <th>GEOID</th>\n",
       "      <th>geometry</th>\n",
       "      <th>minutes</th>\n",
       "      <th>count in 30</th>\n",
       "      <th>gravity_doc</th>\n",
       "      <th>fca_doc</th>\n",
       "      <th>2sfca_doc</th>\n",
       "      <th>2sfca30_doc</th>\n",
       "      <th>g2sfca_doc</th>\n",
       "      <th>3sfca_doc</th>\n",
       "      <th>raam_doc</th>\n",
       "    </tr>\n",
       "  </thead>\n",
       "  <tbody>\n",
       "    <tr>\n",
       "      <th>7</th>\n",
       "      <td>17031807500</td>\n",
       "      <td>POLYGON ((-87.73302 42.02625, -87.73296 42.028...</td>\n",
       "      <td>75.64</td>\n",
       "      <td>431.0</td>\n",
       "      <td>NaN</td>\n",
       "      <td>0.001918</td>\n",
       "      <td>0.001088</td>\n",
       "      <td>0.001089</td>\n",
       "      <td>1.107362e-03</td>\n",
       "      <td>0.001096</td>\n",
       "      <td>0.038957</td>\n",
       "    </tr>\n",
       "    <tr>\n",
       "      <th>9</th>\n",
       "      <td>17031440300</td>\n",
       "      <td>POLYGON ((-87.62455 41.75096, -87.62139 41.751...</td>\n",
       "      <td>43.71</td>\n",
       "      <td>443.0</td>\n",
       "      <td>NaN</td>\n",
       "      <td>0.001827</td>\n",
       "      <td>0.000976</td>\n",
       "      <td>0.000937</td>\n",
       "      <td>8.562476e-04</td>\n",
       "      <td>0.000872</td>\n",
       "      <td>0.061780</td>\n",
       "    </tr>\n",
       "    <tr>\n",
       "      <th>25</th>\n",
       "      <td>17197883209</td>\n",
       "      <td>POLYGON ((-88.18040 41.55078, -88.17258 41.550...</td>\n",
       "      <td>55.40</td>\n",
       "      <td>56.0</td>\n",
       "      <td>NaN</td>\n",
       "      <td>0.000912</td>\n",
       "      <td>0.000319</td>\n",
       "      <td>0.000389</td>\n",
       "      <td>4.816938e-04</td>\n",
       "      <td>0.000478</td>\n",
       "      <td>0.049482</td>\n",
       "    </tr>\n",
       "    <tr>\n",
       "      <th>55</th>\n",
       "      <td>26021010100</td>\n",
       "      <td>POLYGON ((-86.44293 42.15769, -86.43718 42.163...</td>\n",
       "      <td>128.47</td>\n",
       "      <td>NaN</td>\n",
       "      <td>15.293174</td>\n",
       "      <td>NaN</td>\n",
       "      <td>NaN</td>\n",
       "      <td>0.000000</td>\n",
       "      <td>6.324388e-42</td>\n",
       "      <td>0.000000</td>\n",
       "      <td>4.326483</td>\n",
       "    </tr>\n",
       "    <tr>\n",
       "      <th>92</th>\n",
       "      <td>17031480300</td>\n",
       "      <td>POLYGON ((-87.59280 41.73316, -87.58927 41.733...</td>\n",
       "      <td>45.67</td>\n",
       "      <td>386.0</td>\n",
       "      <td>NaN</td>\n",
       "      <td>0.001885</td>\n",
       "      <td>0.000858</td>\n",
       "      <td>0.000756</td>\n",
       "      <td>7.232910e-04</td>\n",
       "      <td>0.000789</td>\n",
       "      <td>0.063691</td>\n",
       "    </tr>\n",
       "  </tbody>\n",
       "</table>\n",
       "</div>"
      ],
      "text/plain": [
       "          GEOID                                           geometry  minutes  \\\n",
       "7   17031807500  POLYGON ((-87.73302 42.02625, -87.73296 42.028...    75.64   \n",
       "9   17031440300  POLYGON ((-87.62455 41.75096, -87.62139 41.751...    43.71   \n",
       "25  17197883209  POLYGON ((-88.18040 41.55078, -88.17258 41.550...    55.40   \n",
       "55  26021010100  POLYGON ((-86.44293 42.15769, -86.43718 42.163...   128.47   \n",
       "92  17031480300  POLYGON ((-87.59280 41.73316, -87.58927 41.733...    45.67   \n",
       "\n",
       "    count in 30  gravity_doc   fca_doc  2sfca_doc  2sfca30_doc    g2sfca_doc  \\\n",
       "7         431.0          NaN  0.001918   0.001088     0.001089  1.107362e-03   \n",
       "9         443.0          NaN  0.001827   0.000976     0.000937  8.562476e-04   \n",
       "25         56.0          NaN  0.000912   0.000319     0.000389  4.816938e-04   \n",
       "55          NaN    15.293174       NaN        NaN     0.000000  6.324388e-42   \n",
       "92        386.0          NaN  0.001885   0.000858     0.000756  7.232910e-04   \n",
       "\n",
       "    3sfca_doc  raam_doc  \n",
       "7    0.001096  0.038957  \n",
       "9    0.000872  0.061780  \n",
       "25   0.000478  0.049482  \n",
       "55   0.000000  4.326483  \n",
       "92   0.000789  0.063691  "
      ]
     },
     "execution_count": 34,
     "metadata": {},
     "output_type": "execute_result"
    }
   ],
   "source": [
    "results = results.dropna(subset=list(result_cols), how='all') # drop row if all result columns are nan\n",
    "results.head()"
   ]
  },
  {
   "cell_type": "markdown",
   "id": "ece031fb",
   "metadata": {},
   "source": [
    "## Save the Results"
   ]
  },
  {
   "cell_type": "code",
   "execution_count": 35,
   "id": "744afa58-eee2-408d-a40e-cb56c86472ef",
   "metadata": {},
   "outputs": [],
   "source": [
    "results.to_csv(os.path.join(RESULT_FOLDER, \"access_result.csv\"))"
   ]
  },
  {
   "cell_type": "code",
   "execution_count": 36,
   "id": "4d692150-d6fa-40b6-9bb3-d96e310ae835",
   "metadata": {},
   "outputs": [
    {
     "data": {
      "text/plain": [
       "<Axes: >"
      ]
     },
     "execution_count": 36,
     "metadata": {},
     "output_type": "execute_result"
    },
    {
     "data": {
      "image/png": "[encoded data removed]",
      "text/plain": [
       "<Figure size 640x480 with 2 Axes>"
      ]
     },
     "metadata": {},
     "output_type": "display_data"
    }
   ],
   "source": [
    "results.plot(column=\"minutes\", legend=True)  # for debugging"
   ]
  },
  {
   "cell_type": "code",
   "execution_count": null,
   "id": "e3decb01",
   "metadata": {},
   "outputs": [],
   "source": []
  }
 ],
 "metadata": {
  "kernelspec": {
   "display_name": "Python 3 (ipykernel)",
   "language": "python",
   "name": "python3"
  },
  "language_info": {
   "codemirror_mode": {
    "name": "ipython",
    "version": 3
   },
   "file_extension": ".py",
   "mimetype": "text/x-python",
   "name": "python",
   "nbconvert_exporter": "python",
   "pygments_lexer": "ipython3",
   "version": "3.8.17"
  }
 },
 "nbformat": 4,
 "nbformat_minor": 5
}
